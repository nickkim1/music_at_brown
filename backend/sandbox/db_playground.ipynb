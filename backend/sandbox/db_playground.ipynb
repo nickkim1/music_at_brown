{
 "cells": [
  {
   "cell_type": "markdown",
   "metadata": {},
   "source": [
    "This is a playground notebook for database functionality. I migrated this from the higher-level dir so the imports need to be fixed"
   ]
  },
  {
   "cell_type": "code",
   "execution_count": 1,
   "metadata": {},
   "outputs": [],
   "source": [
    "from app import app, db\n",
    "from models import User, Venue, Artist\n",
    "import sqlalchemy as sa"
   ]
  },
  {
   "cell_type": "code",
   "execution_count": 2,
   "metadata": {},
   "outputs": [],
   "source": [
    "app.app_context().push()"
   ]
  },
  {
   "cell_type": "code",
   "execution_count": 6,
   "metadata": {},
   "outputs": [],
   "source": [
    "# sqlalchemy only checks for primary key uniqueness\n",
    "a = Artist(username=\"rich brian\", \n",
    "           insta=\"none\", \n",
    "           spotify=\"none\", \n",
    "           twitter=\"none\",\n",
    "           facebook=\"none\",\n",
    "           booking=\"none\",\n",
    "           location=\"jakarta\", \n",
    "           description=\"rich asf\") # maybe it's a mistake to require unique descriptions...\n",
    "db.session.add(a)\n",
    "db.session.commit()"
   ]
  },
  {
   "cell_type": "code",
   "execution_count": 7,
   "metadata": {},
   "outputs": [],
   "source": [
    "# sqlalchemy only checks for primary key uniqueness, but enforcing the uniqueness constraint \n",
    "# also makes it impossible to re-add the same artist name, should probably error-handle\n",
    "a_1 = Artist(username=\"niki\", \n",
    "           insta=\"none\", \n",
    "           spotify=\"none\", \n",
    "           twitter=\"none\",\n",
    "           facebook=\"none\",\n",
    "           booking=\"none\",\n",
    "           location=\"jakarta\", \n",
    "           description=\"i am an incredibly unique artist\")\n",
    "\n",
    "db.session.add(a_1) # so the obj already exists re-adding triggers a rollback error\n",
    "db.session.commit()"
   ]
  },
  {
   "cell_type": "code",
   "execution_count": 8,
   "metadata": {},
   "outputs": [
    {
     "name": "stdout",
     "output_type": "stream",
     "text": [
      "[<Artist rich brian>, <Artist niki>]\n",
      "1 rich asf\n",
      "2 i am an incredibly unique artist\n",
      "rich asf\n"
     ]
    }
   ],
   "source": [
    "query = sa.select(Artist)\n",
    "artists = db.session.scalars(query).all() # .all() converst results object into a plain list\n",
    "print(artists)\n",
    "\n",
    "for artist in artists: \n",
    "    print(artist.id, artist.description)\n",
    "\n",
    "selected_artist = db.session.get(Artist, 1)\n",
    "print(selected_artist.description)"
   ]
  },
  {
   "cell_type": "code",
   "execution_count": 9,
   "metadata": {},
   "outputs": [],
   "source": [
    "# let's add a venue\n",
    "v = Venue(location=\"HITC!\", link=\"no link\", date=\"no date\", time=\"no time\")\n",
    "db.session.add(v)\n",
    "db.session.commit() #timestamp if it existed would just have a default, the so.relationship implicitly assigns the right Artist by passing in the artist object I created above, sqlalchmey is great at abstracting this logic out"
   ]
  },
  {
   "cell_type": "code",
   "execution_count": 10,
   "metadata": {},
   "outputs": [
    {
     "name": "stdout",
     "output_type": "stream",
     "text": [
      "[]\n"
     ]
    }
   ],
   "source": [
    "print(v.artists)"
   ]
  },
  {
   "cell_type": "code",
   "execution_count": 11,
   "metadata": {},
   "outputs": [],
   "source": [
    "try: \n",
    "    v.artists = [a, a_1]\n",
    "    db.session.commit()\n",
    "except sa.exc.SQLAlchemyError as e:\n",
    "    print(e)\n",
    "    print('you should probably rollback your changes')"
   ]
  },
  {
   "cell_type": "code",
   "execution_count": 12,
   "metadata": {},
   "outputs": [
    {
     "name": "stdout",
     "output_type": "stream",
     "text": [
      "[<Artist rich brian>, <Artist niki>]\n"
     ]
    }
   ],
   "source": [
    "print(db.session.query(Venue).where(Venue.id == 1).one().artists)"
   ]
  },
  {
   "cell_type": "code",
   "execution_count": 13,
   "metadata": {},
   "outputs": [
    {
     "name": "stdout",
     "output_type": "stream",
     "text": [
      "[<Venue HITC!>]\n"
     ]
    }
   ],
   "source": [
    "print(db.session.query(Artist).where(Artist.id == 1).one().venues)"
   ]
  },
  {
   "cell_type": "code",
   "execution_count": 14,
   "metadata": {},
   "outputs": [
    {
     "name": "stdout",
     "output_type": "stream",
     "text": [
      "[<Venue HITC!>]\n"
     ]
    }
   ],
   "source": [
    "print(db.session.query(Artist).where(Artist.id == 2).one().venues)"
   ]
  },
  {
   "cell_type": "code",
   "execution_count": 16,
   "metadata": {},
   "outputs": [
    {
     "name": "stdout",
     "output_type": "stream",
     "text": [
      "[<Artist rich brian>, <Artist niki>]\n"
     ]
    }
   ],
   "source": [
    "# get all the users in reverse alphabetical order\n",
    "query = sa.select(Artist).order_by(Artist.username.desc())\n",
    "print(db.session.scalars(query).all())"
   ]
  }
 ],
 "metadata": {
  "kernelspec": {
   "display_name": "venv",
   "language": "python",
   "name": "python3"
  },
  "language_info": {
   "codemirror_mode": {
    "name": "ipython",
    "version": 3
   },
   "file_extension": ".py",
   "mimetype": "text/x-python",
   "name": "python",
   "nbconvert_exporter": "python",
   "pygments_lexer": "ipython3",
   "version": "3.12.3"
  }
 },
 "nbformat": 4,
 "nbformat_minor": 2
}
